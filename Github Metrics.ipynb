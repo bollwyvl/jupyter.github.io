{
 "cells": [
  {
   "cell_type": "markdown",
   "metadata": {},
   "source": [
    "Grab relevant metrics from github."
   ]
  },
  {
   "cell_type": "code",
   "execution_count": 40,
   "metadata": {
    "collapsed": false
   },
   "outputs": [],
   "source": [
    "!pip install -q --pre github3.py"
   ]
  },
  {
   "cell_type": "code",
   "execution_count": 10,
   "metadata": {
    "collapsed": false
   },
   "outputs": [],
   "source": [
    "import json\n",
    "import os\n",
    "\n",
    "with open(\"kernels/kernels.json\") as f:\n",
    "    kernels = json.load(f)"
   ]
  },
  {
   "cell_type": "code",
   "execution_count": 11,
   "metadata": {
    "collapsed": false
   },
   "outputs": [],
   "source": [
    "import github3 as gh3\n",
    "gh = gh3.login(os.environ[\"GITHUB_USER\"], token=os.environ[\"GITHUB_TOKEN\"])"
   ]
  },
  {
   "cell_type": "code",
   "execution_count": 34,
   "metadata": {
    "collapsed": false
   },
   "outputs": [],
   "source": [
    "repos = []\n",
    "for key, kernel in kernels[\"kernels\"].items():\n",
    "    try:\n",
    "        owner, name = kernel[\"actions\"][\"act:github\"].split(\":\")[1].split(\"/\")\n",
    "    except:\n",
    "        continue\n",
    "    repos.append([kernel, gh.repository(owner, name)])"
   ]
  },
  {
   "cell_type": "markdown",
   "metadata": {},
   "source": [
    "Update metrics"
   ]
  },
  {
   "cell_type": "code",
   "execution_count": 38,
   "metadata": {
    "collapsed": false
   },
   "outputs": [],
   "source": [
    "for kernel, repo in repos:\n",
    "    kernel.setdefault(\"metrics\", {}).update({\n",
    "        \"gh:stargazers\":  repo.stargazers_count,\n",
    "        \"gh:forks\":  repo.fork_count,\n",
    "        \"gh:updated\": repo.updated_at.isoformat()\n",
    "    })"
   ]
  },
  {
   "cell_type": "markdown",
   "metadata": {},
   "source": [
    "Find logo"
   ]
  },
  {
   "cell_type": "code",
   "execution_count": 53,
   "metadata": {
    "collapsed": false
   },
   "outputs": [],
   "source": [
    "for kernel, repo in repos:\n",
    "    for image in gh.search_code(\"repo:{} extension:png\".format(repo.full_name)):\n",
    "        if image.name == \"logo-64x64.png\":\n",
    "            kernel[\"logo\"] = (image.html_url\n",
    "                .replace(\"github.com\", \"cdn.rawgit.com\")\n",
    "                .replace(\"/blob/\", \"/\")\n",
    "            )"
   ]
  },
  {
   "cell_type": "code",
   "execution_count": 57,
   "metadata": {
    "collapsed": false
   },
   "outputs": [],
   "source": [
    "for kernel, repo in repos:\n",
    "    if \"description\" not in kernel:\n",
    "        kernel[\"description\"] = repo.description"
   ]
  },
  {
   "cell_type": "code",
   "execution_count": 58,
   "metadata": {
    "collapsed": false
   },
   "outputs": [],
   "source": [
    "with open(\"kernels/kernels.json\", \"w\") as f:\n",
    "    json.dump(kernels, f, indent=2, sort_keys=True)"
   ]
  },
  {
   "cell_type": "code",
   "execution_count": 17,
   "metadata": {
    "collapsed": false
   },
   "outputs": [],
   "source": [
    "scheme = repos[\"kern:calysto-scheme\"]"
   ]
  },
  {
   "cell_type": "code",
   "execution_count": 40,
   "metadata": {
    "collapsed": false
   },
   "outputs": [],
   "source": [
    "result = list(gh.search_code(\"repo:{} extension:png\".format(scheme.full_name)))"
   ]
  },
  {
   "cell_type": "code",
   "execution_count": 45,
   "metadata": {
    "collapsed": false
   },
   "outputs": [],
   "source": [
    "x = result[0]"
   ]
  },
  {
   "cell_type": "code",
   "execution_count": 49,
   "metadata": {
    "collapsed": false
   },
   "outputs": [
    {
     "data": {
      "text/plain": [
       "'https://github.com/Calysto/calysto_scheme/blob/917d855dcae3ebc1f6f2c2024a48c78570421f30/calysto_scheme/images/logo-32x32.png'"
      ]
     },
     "execution_count": 49,
     "metadata": {},
     "output_type": "execute_result"
    }
   ],
   "source": [
    "x.html_url"
   ]
  },
  {
   "cell_type": "code",
   "execution_count": 55,
   "metadata": {
    "collapsed": false
   },
   "outputs": [
    {
     "data": {
      "text/plain": [
       "'A Haskell kernel for IPython.'"
      ]
     },
     "execution_count": 55,
     "metadata": {},
     "output_type": "execute_result"
    }
   ],
   "source": [
    "repo.description"
   ]
  },
  {
   "cell_type": "code",
   "execution_count": null,
   "metadata": {
    "collapsed": true
   },
   "outputs": [],
   "source": []
  }
 ],
 "metadata": {
  "kernelspec": {
   "display_name": "Python 3",
   "language": "python",
   "name": "python3"
  },
  "language_info": {
   "codemirror_mode": {
    "name": "ipython",
    "version": 3
   },
   "file_extension": ".py",
   "mimetype": "text/x-python",
   "name": "python",
   "nbconvert_exporter": "python",
   "pygments_lexer": "ipython3",
   "version": "3.4.2"
  }
 },
 "nbformat": 4,
 "nbformat_minor": 0
}
