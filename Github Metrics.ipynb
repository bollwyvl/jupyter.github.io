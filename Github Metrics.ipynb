{
 "cells": [
  {
   "cell_type": "markdown",
   "metadata": {},
   "source": [
    "Grab relevant metrics from github."
   ]
  },
  {
   "cell_type": "code",
   "execution_count": null,
   "metadata": {
    "collapsed": false
   },
   "outputs": [],
   "source": [
    "!pip install -q --pre github3.py"
   ]
  },
  {
   "cell_type": "code",
   "execution_count": null,
   "metadata": {
    "collapsed": false
   },
   "outputs": [],
   "source": [
    "import json\n",
    "import os\n",
    "\n",
    "with open(\"kernels/kernels.json\") as f:\n",
    "    kernels = json.load(f)"
   ]
  },
  {
   "cell_type": "code",
   "execution_count": null,
   "metadata": {
    "collapsed": false
   },
   "outputs": [],
   "source": [
    "import github3 as gh3\n",
    "gh = gh3.login(os.environ[\"GITHUB_USER\"], token=os.environ[\"GITHUB_TOKEN\"])"
   ]
  },
  {
   "cell_type": "code",
   "execution_count": null,
   "metadata": {
    "collapsed": false
   },
   "outputs": [],
   "source": [
    "repos = []\n",
    "for key, kernel in kernels[\"kernels\"].items():\n",
    "    try:\n",
    "        owner, name = kernel[\"actions\"][\"act:github\"].split(\":\")[1].split(\"/\")\n",
    "    except:\n",
    "        if \"github.com\" in kernel[\"url\"]:\n",
    "            owner, name = (kernel[\"url\"]\n",
    "                           .replace(\"https://github.com/\", \"\")\n",
    "                           .split(\"/\")\n",
    "                           )[0:2]\n",
    "    \n",
    "    repo = gh.repository(owner, name)\n",
    "    if isinstance(repo, gh3.repos.repo.Repository):\n",
    "        repos.append([kernel, repo])"
   ]
  },
  {
   "cell_type": "markdown",
   "metadata": {},
   "source": [
    "Update metrics"
   ]
  },
  {
   "cell_type": "code",
   "execution_count": null,
   "metadata": {
    "collapsed": false
   },
   "outputs": [],
   "source": [
    "for kernel, repo in repos:\n",
    "    kernel.setdefault(\"metrics\", {}).update({\n",
    "        \"gh:stargazers\":  repo.stargazers_count,\n",
    "        \"gh:forks\":  repo.fork_count,\n",
    "        \"gh:updated\": repo.updated_at.isoformat()\n",
    "    })"
   ]
  },
  {
   "cell_type": "markdown",
   "metadata": {},
   "source": [
    "Find logo"
   ]
  },
  {
   "cell_type": "code",
   "execution_count": null,
   "metadata": {
    "collapsed": false
   },
   "outputs": [],
   "source": [
    "import time\n",
    "for kernel, repo in repos:\n",
    "    time.sleep(1)\n",
    "    for image in gh.search_code(\"repo:{} extension:png\".format(repo.full_name)):\n",
    "        if image.name == \"logo-64x64.png\":\n",
    "            kernel[\"logo\"] = (image.html_url\n",
    "                .replace(\"github.com\", \"cdn.rawgit.com\")\n",
    "                .replace(\"/blob/\", \"/\")\n",
    "            )"
   ]
  },
  {
   "cell_type": "code",
   "execution_count": null,
   "metadata": {
    "collapsed": false
   },
   "outputs": [],
   "source": [
    "for kernel, repo in repos:\n",
    "    if \"description\" not in kernel:\n",
    "        kernel[\"description\"] = repo.description"
   ]
  },
  {
   "cell_type": "code",
   "execution_count": null,
   "metadata": {
    "collapsed": false
   },
   "outputs": [],
   "source": [
    "with open(\"kernels/kernels.json\", \"w\") as f:\n",
    "    f.write(json.dumps(kernels, indent=2, sort_keys=True))"
   ]
  },
  {
   "cell_type": "code",
   "execution_count": null,
   "metadata": {
    "collapsed": true
   },
   "outputs": [],
   "source": []
  }
 ],
 "metadata": {
  "kernelspec": {
   "display_name": "Python 3",
   "language": "python",
   "name": "python3"
  },
  "language_info": {
   "codemirror_mode": {
    "name": "ipython",
    "version": 3
   },
   "file_extension": ".py",
   "mimetype": "text/x-python",
   "name": "python",
   "nbconvert_exporter": "python",
   "pygments_lexer": "ipython3",
   "version": "3.4.2"
  }
 },
 "nbformat": 4,
 "nbformat_minor": 0
}
